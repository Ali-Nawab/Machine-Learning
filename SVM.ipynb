{
 "cells": [
  {
   "cell_type": "code",
   "execution_count": 4,
   "id": "7a8abd80",
   "metadata": {},
   "outputs": [],
   "source": [
    "import numpy as np\n",
    "from sklearn.model_selection import train_test_split\n",
    "from sklearn import datasets\n",
    "import matplotlib.pyplot as plt"
   ]
  },
  {
   "cell_type": "code",
   "execution_count": null,
   "id": "903dae42",
   "metadata": {},
   "outputs": [],
   "source": [
    "\"\"\"\n",
    "Support vector machines (SVMs) are a type of supervised learning algorithm that can be used for classification or regression \n",
    "tasks. Some common applications of SVMs include:\n",
    "\n",
    "Text classification and sentiment analysis: SVMs can be used to classify documents into different categories (such as spam vs.\n",
    "non-spam) or predict the sentiment of a piece of text (positive, negative, or neutral).\n",
    "\n",
    "Image classification: SVMs can be used to classify images into different categories, such as identifying objects in an image or\n",
    "classifying images by their content (e.g., landscape vs. portrait).\n",
    "\n",
    "Handwriting recognition: SVMs can be used to recognize handwritten characters or digits by learning from a dataset of labeled \n",
    "examples.\n",
    "\n",
    "Protein classification: In bioinformatics, SVMs can be used to classify proteins into different categories based on their \n",
    "sequence, structure, or function.\n",
    "\n",
    "Fraud detection: SVMs can be used to detect fraudulent activity in financial transactions or other datasets by learning from\n",
    "examples of fraudulent and non-fraudulent activity.\n",
    "\n",
    "There are many other potential applications of SVMs, and they have been widely used in a variety of fields including finance, \n",
    "marketing, and medicine.\n",
    "\n",
    "\"\"\""
   ]
  },
  {
   "cell_type": "code",
   "execution_count": null,
   "id": "633de878",
   "metadata": {},
   "outputs": [],
   "source": [
    "\"\"\"\n",
    "\n",
    "There are several factors that can cause the accuracy of a support vector machine (SVM) to degrade:\n",
    "\n",
    "Overfitting: If the SVM model is too complex for the given data, it may overfit the training data and perform poorly on unseen \n",
    "data. This can be addressed by using a simpler model or by using regularization to prevent overfitting.\n",
    "\n",
    "Insufficient data: If the training data is not representative of the entire population, the SVM model may not generalize well to\n",
    "unseen data. This can be addressed by collecting more diverse training data.\n",
    "\n",
    "Noise in the data: If the training data contains a lot of noise (i.e., irrelevant or misleading information), the SVM model may \n",
    "be less accurate. Preprocessing the data to remove noise can improve the accuracy of the model.\n",
    "\n",
    "Outliers: If the training data contains extreme outlier examples that are very different from the majority of the data, the SVM \n",
    "model may be less accurate. Outliers can be detected and removed from the data before training the model.\n",
    "\n",
    "Choosing the wrong kernel function: The kernel function is a key hyperparameter in an SVM model, and choosing the wrong kernel \n",
    "function can significantly affect the model's accuracy. It is important to select the kernel function that is most appropriate \n",
    "for the given data and task.\n",
    "\n",
    "\n",
    "\n",
    "\"\"\""
   ]
  },
  {
   "cell_type": "code",
   "execution_count": 5,
   "id": "7cf1d049",
   "metadata": {},
   "outputs": [],
   "source": [
    "class SVM:\n",
    "    def __init__(self, learning_rate=0.001, lambda_param = 0.01, n_iters = 1000):\n",
    "        self.Ir = learning_rate\n",
    "        self.lambda_ = lambda_param\n",
    "        self.iteration = n_iters\n",
    "        self.w = None\n",
    "        self.b = None\n",
    "        \n",
    "    def fit(self, X, y):\n",
    "        # fitting the data.\n",
    "        n_samples, n_features = X.shape\n",
    "        y = np.where(y <= 0, -1, 1)\n",
    "        self.w = np.zeros(n_features)\n",
    "        self.b = 0\n",
    "        \n",
    "        for i in range(self.iteration):\n",
    "            for idx, x_i in enumerate(X):\n",
    "                condition = y[idx]  * (np.dot(x_i, self.w) - self.b) >= 1\n",
    "                if condition:\n",
    "                    self.w -= self.Ir * (2 * self.lambda_ * self.w)\n",
    "                else:\n",
    "                    self.w -= self.Ir * (2 * self.lambda_ * self.w - np.dot(y[idx], x_i))\n",
    "                    self.b -= self.lambda_ * y[idx]\n",
    "                                         \n",
    "                                         \n",
    "    def predict(self, X):\n",
    "        # make prediction.\n",
    "        approx = np.dot(X, self.w) - self.b\n",
    "        return np.sign(approx)\n",
    "            \n",
    "                              "
   ]
  },
  {
   "cell_type": "code",
   "execution_count": 6,
   "id": "2497b116",
   "metadata": {},
   "outputs": [],
   "source": [
    "X, y = datasets.make_blobs(n_samples=50, n_features=2, centers=2, cluster_std=1.05, random_state=40 )\n",
    "\n",
    "y = np.where(y == 0, -1, 1)\n",
    "\n",
    "X_train, X_test, y_train, y_test = train_test_split(X, y, test_size=0.2, random_state=123)\n"
   ]
  },
  {
   "cell_type": "code",
   "execution_count": 7,
   "id": "1d7a47bd",
   "metadata": {},
   "outputs": [
    {
     "name": "stdout",
     "output_type": "stream",
     "text": [
      "1.0\n"
     ]
    }
   ],
   "source": [
    "clf = SVM()\n",
    "clf.fit(X_train, y_train)\n",
    "predictions = clf.predict(X_test)\n",
    "accuracy = np.sum(predictions == y_test) / len(y_test)\n",
    "print(accuracy)\n"
   ]
  },
  {
   "cell_type": "code",
   "execution_count": 8,
   "id": "2023253b",
   "metadata": {},
   "outputs": [
    {
     "data": {
      "text/plain": [
       "(50, 2)"
      ]
     },
     "execution_count": 8,
     "metadata": {},
     "output_type": "execute_result"
    }
   ],
   "source": [
    "X.shape\n"
   ]
  },
  {
   "cell_type": "code",
   "execution_count": 11,
   "id": "11dbcac3",
   "metadata": {},
   "outputs": [
    {
     "data": {
      "text/plain": [
       "(2,)"
      ]
     },
     "execution_count": 11,
     "metadata": {},
     "output_type": "execute_result"
    }
   ],
   "source": [
    "clf.w.shape"
   ]
  },
  {
   "cell_type": "code",
   "execution_count": 12,
   "id": "7d87cf07",
   "metadata": {},
   "outputs": [
    {
     "data": {
      "text/plain": [
       "(50,)"
      ]
     },
     "execution_count": 12,
     "metadata": {},
     "output_type": "execute_result"
    }
   ],
   "source": [
    "y.shape"
   ]
  },
  {
   "cell_type": "code",
   "execution_count": 13,
   "id": "ceaaf52b",
   "metadata": {},
   "outputs": [
    {
     "name": "stdout",
     "output_type": "stream",
     "text": [
      "0   [1, 2, 3]\n",
      "1   [4, 5, 6]\n"
     ]
    }
   ],
   "source": [
    "X = [[1,2,3],\n",
    "    [4,5,6]]\n",
    "\n",
    "for idx, x_ in enumerate(X):\n",
    "    print(idx, \" \", x_)"
   ]
  },
  {
   "cell_type": "code",
   "execution_count": 26,
   "id": "f4dbf317",
   "metadata": {},
   "outputs": [
    {
     "data": {
      "text/plain": [
       "list"
      ]
     },
     "execution_count": 26,
     "metadata": {},
     "output_type": "execute_result"
    }
   ],
   "source": [
    "# now data visualization comes.\n",
    "type(X)"
   ]
  },
  {
   "cell_type": "code",
   "execution_count": 8,
   "id": "dd9296dd",
   "metadata": {},
   "outputs": [
    {
     "data": {
      "image/png": "[encoded data removed]",
      "text/plain": [
       "<Figure size 640x480 with 1 Axes>"
      ]
     },
     "metadata": {},
     "output_type": "display_data"
    }
   ],
   "source": [
    "\n",
    "plt.scatter(X[:, 0], X[:, 1], c=y)\n",
    "\n",
    "# create a grid of points\n",
    "x_min, x_max = X[:, 0].min() - 1, X[:, 0].max() + 1\n",
    "y_min, y_max = X[:, 1].min() - 1, X[:, 1].max() + 1\n",
    "xx, yy = np.meshgrid(np.arange(x_min, x_max, 0.1),\n",
    "                     np.arange(y_min, y_max, 0.1))\n",
    "\n",
    "# evaluate the model on the grid of points\n",
    "Z = clf.predict(np.c_[xx.ravel(), yy.ravel()])\n",
    "Z = Z.reshape(xx.shape)\n",
    "\n",
    "# plot the decision boundary\n",
    "plt.contour(xx, yy, Z, cmap=plt.cm.coolwarm, alpha=0.8)\n",
    "\n",
    "# show the plot\n",
    "plt.show()\n",
    "\n",
    "\n",
    "\n",
    "\n"
   ]
  },
  {
   "cell_type": "code",
   "execution_count": null,
   "id": "78cfab8d",
   "metadata": {},
   "outputs": [],
   "source": []
  }
 ],
 "metadata": {
  "kernelspec": {
   "display_name": "Python 3 (ipykernel)",
   "language": "python",
   "name": "python3"
  },
  "language_info": {
   "codemirror_mode": {
    "name": "ipython",
    "version": 3
   },
   "file_extension": ".py",
   "mimetype": "text/x-python",
   "name": "python",
   "nbconvert_exporter": "python",
   "pygments_lexer": "ipython3",
   "version": "3.9.13"
  }
 },
 "nbformat": 4,
 "nbformat_minor": 5
}
